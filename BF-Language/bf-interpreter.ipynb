{
 "cells": [
  {
   "cell_type": "code",
   "execution_count": null,
   "metadata": {},
   "outputs": [],
   "source": [
    "import sys"
   ]
  },
  {
   "cell_type": "code",
   "execution_count": null,
   "metadata": {},
   "outputs": [],
   "source": [
    "program_filepath = \"bf-program3.bf\""
   ]
  },
  {
   "cell_type": "code",
   "execution_count": null,
   "metadata": {},
   "outputs": [],
   "source": [
    "f = open(program_filepath, \"r\")\n",
    "valid_chars = ['.', ',', '[', ']', '<', '>', '+', '-']\n",
    "clean_text = ''.join(filter(lambda x: x in valid_chars, f.read()))"
   ]
  },
  {
   "cell_type": "code",
   "execution_count": null,
   "metadata": {},
   "outputs": [],
   "source": [
    "pos_mapping = {}\n",
    "stack = []\n",
    "for pos, char in enumerate(clean_text):\n",
    "    if char == \"[\":\n",
    "        stack.append(pos)\n",
    "    elif char == \"]\":\n",
    "        starting_pos = stack.pop()\n",
    "        pos_mapping[starting_pos] = pos\n",
    "        pos_mapping[pos] = starting_pos\n",
    "if len(stack) > 0:\n",
    "    raise ValueError('Mismatch brackets')"
   ]
  },
  {
   "cell_type": "code",
   "execution_count": null,
   "metadata": {},
   "outputs": [],
   "source": [
    "program_counter = 0\n",
    "tap_pointer = 0\n",
    "tap = [0]\n",
    "\n",
    "while program_counter < len(clean_text):\n",
    "    command = clean_text[program_counter]\n",
    "    if command == \"+\":\n",
    "        tap[tap_pointer] += 1\n",
    "    elif command == \"-\":\n",
    "        tap[tap_pointer] -= 1\n",
    "    elif command == \">\":\n",
    "        tap_pointer += 1\n",
    "        if tap_pointer == len(tap):\n",
    "            tap.append(0)\n",
    "    elif command == \"<\":\n",
    "        tap_pointer -= 1\n",
    "        tap_pointer = max(tap_pointer, 0)\n",
    "    elif command == \",\":\n",
    "        user_input = input()\n",
    "        if len(user_input) > 0:\n",
    "            tap[tap_pointer] = ord(user_input[0])\n",
    "    elif command == \".\":\n",
    "        print(chr(tap[tap_pointer]), end=\"\")\n",
    "    elif command == \"[\" and tap[tap_pointer] == 0:\n",
    "            program_counter = pos_mapping[program_counter]\n",
    "    elif command == \"]\" and tap[tap_pointer] != 0:\n",
    "            program_counter = pos_mapping[program_counter]\n",
    "\n",
    "    program_counter += 1\n",
    "    "
   ]
  },
  {
   "cell_type": "code",
   "execution_count": null,
   "metadata": {},
   "outputs": [],
   "source": []
  }
 ],
 "metadata": {
  "kernelspec": {
   "display_name": "Python 3",
   "language": "python",
   "name": "python3"
  },
  "language_info": {
   "codemirror_mode": {
    "name": "ipython",
    "version": 3
   },
   "file_extension": ".py",
   "mimetype": "text/x-python",
   "name": "python",
   "nbconvert_exporter": "python",
   "pygments_lexer": "ipython3",
   "version": "3.8.15"
  }
 },
 "nbformat": 4,
 "nbformat_minor": 2
}
