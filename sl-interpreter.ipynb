{
 "cells": [
  {
   "cell_type": "code",
   "execution_count": 13,
   "metadata": {},
   "outputs": [],
   "source": [
    "import sys"
   ]
  },
  {
   "cell_type": "code",
   "execution_count": 14,
   "metadata": {},
   "outputs": [],
   "source": [
    "program_filepath = \"program1.sl\""
   ]
  },
  {
   "cell_type": "code",
   "execution_count": 15,
   "metadata": {},
   "outputs": [],
   "source": [
    "with open(program_filepath, \"r\") as program_file:\n",
    "    program_lines = [line.strip() for line in program_file.readlines()]"
   ]
  },
  {
   "cell_type": "code",
   "execution_count": 16,
   "metadata": {},
   "outputs": [],
   "source": [
    "def handle_push(parts):\n",
    "    return int(parts[1])\n",
    "\n",
    "def handle_print(parts):\n",
    "    return ' '.join(parts[1:])[1:-1]\n",
    "\n",
    "def handle_jump(parts):\n",
    "    return parts[1]\n",
    "\n",
    "\n",
    "opcode_handlers = {\n",
    "    \"PUSH\": handle_push,\n",
    "    \"PRINT\": handle_print,\n",
    "    \"JUMP.EQ.0\": handle_jump,\n",
    "    \"JUMP.GT.0\": handle_jump\n",
    "}\n",
    "\n",
    "program = []\n",
    "token_counter = 0\n",
    "label_tracker = {}\n",
    "\n",
    "for line in program_lines:\n",
    "    parts = line.split(\" \")\n",
    "    opcode = parts[0]\n",
    "    if opcode == \"\":\n",
    "        continue\n",
    "\n",
    "    if opcode.endswith(\":\"):\n",
    "        label_tracker[opcode[:-1]] = token_counter\n",
    "        continue\n",
    "\n",
    "    if not opcode.endswith(\":\") and opcode not in  [\"HALT\", \"SUB\", \"READ\", \"ADD\", \"POP\", \"PUSH\", \"PRINT\", \"JUMP.EQ.0\", \"JUMP.GT.0\"]:\n",
    "        print(f\"Error opcode {opcode}\")\n",
    "\n",
    "    program.append(opcode)\n",
    "    token_counter += 1\n",
    "\n",
    "    if opcode in opcode_handlers:\n",
    "        label = opcode_handlers[opcode](parts)\n",
    "        program.append(label)\n",
    "        token_counter += 1\n"
   ]
  },
  {
   "cell_type": "code",
   "execution_count": 17,
   "metadata": {},
   "outputs": [],
   "source": [
    "class Stack:\n",
    "\n",
    "    def __init__(self, size) -> None:\n",
    "        self.buf = [0] * size\n",
    "        self.sp = -1\n",
    "\n",
    "    def push(self, number):\n",
    "        self.sp += 1\n",
    "        self.buf[self.sp] = number\n",
    "\n",
    "    def pop(self):\n",
    "        number = self.buf[self.sp]\n",
    "        self.sp -= 1\n",
    "        return number\n",
    "    \n",
    "    def top(self):\n",
    "        return self.buf[self.sp]\n",
    "    "
   ]
  },
  {
   "cell_type": "code",
   "execution_count": 18,
   "metadata": {},
   "outputs": [
    {
     "name": "stdout",
     "output_type": "stream",
     "text": [
      "C\n"
     ]
    }
   ],
   "source": [
    "pc = 0\n",
    "stack = Stack(256)\n",
    "\n",
    "while program[pc] != \"HALT\":\n",
    "    opcode = program[pc]\n",
    "    pc += 1\n",
    "\n",
    "    if opcode == \"PUSH\":\n",
    "        number = program[pc]\n",
    "        pc += 1\n",
    "        stack.push(number)\n",
    "    elif opcode == \"POP\":\n",
    "        stack.pop()\n",
    "    elif opcode == \"ADD\":\n",
    "        a = stack.pop()\n",
    "        b = stack.pop()\n",
    "        stack.push(a+b)\n",
    "    elif opcode == \"SUB\":\n",
    "        a = stack.pop()\n",
    "        b = stack.pop()\n",
    "        stack.push(b-a)\n",
    "    elif opcode == \"PRINT\":\n",
    "        string_literal = program[pc]\n",
    "        pc += 1\n",
    "        print(string_literal)\n",
    "    elif opcode == \"READ\":\n",
    "        number = int(input())\n",
    "        stack.push(number)\n",
    "    elif opcode == \"JUMP.EQ.0\":\n",
    "        number = stack.top()\n",
    "        if number == 0:\n",
    "            pc = label_tracker[program[pc]]\n",
    "        else:\n",
    "            pc += 1\n",
    "    elif opcode == \"JUMP.GT.0\":\n",
    "        number = stack.top()\n",
    "        if number > 0:\n",
    "            pc = label_tracker[program[pc]]\n",
    "        else:\n",
    "            pc += 1"
   ]
  }
 ],
 "metadata": {
  "kernelspec": {
   "display_name": "Python 3",
   "language": "python",
   "name": "python3"
  },
  "language_info": {
   "codemirror_mode": {
    "name": "ipython",
    "version": 3
   },
   "file_extension": ".py",
   "mimetype": "text/x-python",
   "name": "python",
   "nbconvert_exporter": "python",
   "pygments_lexer": "ipython3",
   "version": "3.8.15"
  }
 },
 "nbformat": 4,
 "nbformat_minor": 2
}
